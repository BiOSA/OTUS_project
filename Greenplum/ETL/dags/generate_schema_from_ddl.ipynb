{
 "cells": [
  {
   "cell_type": "code",
   "execution_count": 101,
   "metadata": {},
   "outputs": [],
   "source": [
    "import re"
   ]
  },
  {
   "cell_type": "markdown",
   "metadata": {},
   "source": [
    "Пример DDL"
   ]
  },
  {
   "cell_type": "code",
   "execution_count": null,
   "metadata": {},
   "outputs": [],
   "source": [
    "ddl = \"\"\" \n",
    "CREATE TABLE AuthAttempts(\n",
    "\tId uniqueidentifier NOT NULL,\n",
    "\tCreatedOn datetime2(7) NOT NULL,\n",
    "\tMobilePhone nvarchar(21) NOT NULL,\n",
    "\tCurrentAttempt int NOT NULL,\n",
    "\tEndDate datetime2(7) NULL\n",
    ")\n",
    "\"\"\""
   ]
  },
  {
   "cell_type": "markdown",
   "metadata": {},
   "source": [
    "Получим название таблицы из DDL"
   ]
  },
  {
   "cell_type": "code",
   "execution_count": 103,
   "metadata": {},
   "outputs": [
    {
     "name": "stdout",
     "output_type": "stream",
     "text": [
      "Table name: approval_code\n"
     ]
    }
   ],
   "source": [
    "table_name_pattern = re.compile(r'CREATE\\s+TABLE\\s+(\\[?\\w+\\]?\\.)?(\\[?\\w+\\]?)', re.IGNORECASE)\n",
    "match = table_name_pattern.search(ddl)\n",
    "\n",
    "if match:\n",
    "    table_name_raw = match.group(2).strip('[]')\n",
    "    table_name = re.sub(r'([a-z])([A-Z])', r'\\1_\\2', table_name_raw.split('.')[-1]).lower()\n",
    "    # table_name = re.sub(r'([a-z])([A-Z])', r'\\1_\\2', match.group(2).strip('[]').lower())\n",
    "    print(f\"Table name: {table_name}\")\n",
    "else:\n",
    "    print(\"Table name not found.\")"
   ]
  },
  {
   "cell_type": "markdown",
   "metadata": {},
   "source": [
    "Распознаем список колонок с типами данных"
   ]
  },
  {
   "cell_type": "code",
   "execution_count": 104,
   "metadata": {},
   "outputs": [
    {
     "data": {
      "text/plain": [
       "{'Id': 'UNIQUEIDENTIFIER',\n",
       " 'CreatedOn': 'DATETIME2',\n",
       " 'CreatedById': 'UNIQUEIDENTIFIER',\n",
       " 'ModifiedOn': 'DATETIME2',\n",
       " 'ModifiedById': 'UNIQUEIDENTIFIER',\n",
       " 'ProcessListeners': 'INT',\n",
       " 'TypeId': 'UNIQUEIDENTIFIER',\n",
       " 'ExpiresOn': 'DATETIME2',\n",
       " 'Source': 'NVARCHAR',\n",
       " 'Code': 'NVARCHAR',\n",
       " 'DeliveryAddress': 'NVARCHAR',\n",
       " 'IncorrectEntersNumber': 'INT',\n",
       " 'ContactId': 'UNIQUEIDENTIFIER',\n",
       " 'WasUsed': 'BIT',\n",
       " 'CurrentResendNumber': 'INT'}"
      ]
     },
     "execution_count": 104,
     "metadata": {},
     "output_type": "execute_result"
    }
   ],
   "source": [
    "column_pattern = re.compile(r'\\s*([\\[\\]A-Za-z0-9_]+)\\s+([A-Za-z0-9_]+)(\\([0-9, ]+\\))?', re.IGNORECASE)\n",
    "\n",
    "columns = {}\n",
    "inside_table = False\n",
    "\n",
    "for line in ddl.splitlines():\n",
    "    line = line.strip()\n",
    "    if line.upper().startswith('CREATE TABLE'):\n",
    "        continue\n",
    "    if line.startswith(')'):\n",
    "        break\n",
    "    match = column_pattern.match(line)\n",
    "    if match:\n",
    "        column_name = match.group(1)\n",
    "        data_type = match.group(2).upper()\n",
    "        columns[column_name] = data_type\n",
    "\n",
    "columns"
   ]
  },
  {
   "cell_type": "markdown",
   "metadata": {},
   "source": [
    "Сделаем соответствие типов данных в MSSQL и Greenplum"
   ]
  },
  {
   "cell_type": "code",
   "execution_count": 105,
   "metadata": {},
   "outputs": [],
   "source": [
    "mssql_to_greenplum = {\n",
    "    # Числовые типы\n",
    "    'BIGINT': 'BIGINT',\n",
    "    'INT': 'INTEGER',\n",
    "    'SMALLINT': 'SMALLINT',\n",
    "    'TINYINT': 'SMALLINT',\n",
    "    'BIT': 'BOOLEAN',\n",
    "    'DECIMAL': 'NUMERIC',\n",
    "    'NUMERIC': 'NUMERIC',\n",
    "    'MONEY': 'NUMERIC(19,4)',\n",
    "    'SMALLMONEY': 'NUMERIC(10,4)',\n",
    "    'FLOAT': 'DOUBLE PRECISION',\n",
    "    'REAL': 'REAL',\n",
    "\n",
    "    # Строковые типы\n",
    "    'VARCHAR': 'VARCHAR',\n",
    "    'NVARCHAR': 'TEXT',\n",
    "    'CHAR': 'CHAR',\n",
    "    'NCHAR': 'CHAR',\n",
    "    'TEXT': 'TEXT',\n",
    "    'NTEXT': 'TEXT',\n",
    "\n",
    "    # Дата и время\n",
    "    'DATETIME': 'TIMESTAMP',\n",
    "    'DATETIME2': 'TIMESTAMP',\n",
    "    'SMALLDATETIME': 'TIMESTAMP',\n",
    "    'DATE': 'DATE',\n",
    "    'TIME': 'TIME',\n",
    "    'DATETIMEOFFSET': 'TIMESTAMP WITH TIME ZONE',\n",
    "\n",
    "    # Двоичные\n",
    "    'BINARY': 'BYTEA',\n",
    "    'VARBINARY': 'BYTEA',\n",
    "    'IMAGE': 'BYTEA',\n",
    "\n",
    "    # Другие\n",
    "    'UNIQUEIDENTIFIER': 'UUID',\n",
    "    'XML': 'TEXT', # ?\n",
    "    'SQL_VARIANT': 'TEXT',  # В GP можно хранить как JSON/текст\n",
    "\n",
    "    # Неизвестные/нестандартные\n",
    "    'ROWVERSION': 'BYTEA',\n",
    "    'TIMESTAMP': 'BYTEA'  # В MSSQL это не время, а бинарная метка\n",
    "}\n"
   ]
  },
  {
   "cell_type": "code",
   "execution_count": 106,
   "metadata": {},
   "outputs": [],
   "source": [
    "def map_mssql_to_greenplum(columns_dict, mapping_dict):\n",
    "    mapped_columns = {}\n",
    "    for col, mssql_type in columns_dict.items():\n",
    "        gp_type = mapping_dict.get(mssql_type.upper(), 'TEXT')\n",
    "        mapped_columns[col] = gp_type\n",
    "    return mapped_columns"
   ]
  },
  {
   "cell_type": "markdown",
   "metadata": {},
   "source": [
    "Получим список колонок в Greenplum с типами данных"
   ]
  },
  {
   "cell_type": "code",
   "execution_count": 107,
   "metadata": {},
   "outputs": [
    {
     "data": {
      "text/plain": [
       "{'Id': 'UUID',\n",
       " 'CreatedOn': 'TIMESTAMP',\n",
       " 'CreatedById': 'UUID',\n",
       " 'ModifiedOn': 'TIMESTAMP',\n",
       " 'ModifiedById': 'UUID',\n",
       " 'ProcessListeners': 'INTEGER',\n",
       " 'TypeId': 'UUID',\n",
       " 'ExpiresOn': 'TIMESTAMP',\n",
       " 'Source': 'TEXT',\n",
       " 'Code': 'TEXT',\n",
       " 'DeliveryAddress': 'TEXT',\n",
       " 'IncorrectEntersNumber': 'INTEGER',\n",
       " 'ContactId': 'UUID',\n",
       " 'WasUsed': 'BOOLEAN',\n",
       " 'CurrentResendNumber': 'INTEGER'}"
      ]
     },
     "execution_count": 107,
     "metadata": {},
     "output_type": "execute_result"
    }
   ],
   "source": [
    "greenplum_columns = map_mssql_to_greenplum(columns, mssql_to_greenplum)\n",
    "greenplum_columns"
   ]
  },
  {
   "cell_type": "code",
   "execution_count": 108,
   "metadata": {},
   "outputs": [],
   "source": [
    "## Добавим технические поля\n",
    "greenplum_columns[\"EtlExecutionDate\"] = \"TIMESTAMP\"\n",
    "greenplum_columns[\"EtlStartDate\"] = \"TIMESTAMP\""
   ]
  },
  {
   "cell_type": "markdown",
   "metadata": {},
   "source": [
    "Соберем схему"
   ]
  },
  {
   "cell_type": "code",
   "execution_count": 109,
   "metadata": {},
   "outputs": [
    {
     "data": {
      "text/plain": [
       "[{'name': 'Id', 'type': 'UUID'},\n",
       " {'name': 'CreatedOn', 'type': 'TIMESTAMP'},\n",
       " {'name': 'CreatedById', 'type': 'UUID'},\n",
       " {'name': 'ModifiedOn', 'type': 'TIMESTAMP'},\n",
       " {'name': 'ModifiedById', 'type': 'UUID'},\n",
       " {'name': 'ProcessListeners', 'type': 'INTEGER'},\n",
       " {'name': 'TypeId', 'type': 'UUID'},\n",
       " {'name': 'ExpiresOn', 'type': 'TIMESTAMP'},\n",
       " {'name': 'Source', 'type': 'TEXT'},\n",
       " {'name': 'Code', 'type': 'TEXT'},\n",
       " {'name': 'DeliveryAddress', 'type': 'TEXT'},\n",
       " {'name': 'IncorrectEntersNumber', 'type': 'INTEGER'},\n",
       " {'name': 'ContactId', 'type': 'UUID'},\n",
       " {'name': 'WasUsed', 'type': 'BOOLEAN'},\n",
       " {'name': 'CurrentResendNumber', 'type': 'INTEGER'},\n",
       " {'name': 'EtlExecutionDate', 'type': 'TIMESTAMP'},\n",
       " {'name': 'EtlStartDate', 'type': 'TIMESTAMP'}]"
      ]
     },
     "execution_count": 109,
     "metadata": {},
     "output_type": "execute_result"
    }
   ],
   "source": [
    "schema = [{\"name\": col, \"type\": dtype} for col, dtype in greenplum_columns.items()]\n",
    "schema"
   ]
  },
  {
   "cell_type": "markdown",
   "metadata": {},
   "source": [
    "Сохраним в файл"
   ]
  },
  {
   "cell_type": "code",
   "execution_count": 110,
   "metadata": {},
   "outputs": [],
   "source": [
    "with open(f\"tz/bpm/gp_schemas/{table_name}.py\", \"w+\") as file:\n",
    "    file.write(f\"schema={schema}\")"
   ]
  }
 ],
 "metadata": {
  "kernelspec": {
   "display_name": "Python 3",
   "language": "python",
   "name": "python3"
  },
  "language_info": {
   "codemirror_mode": {
    "name": "ipython",
    "version": 3
   },
   "file_extension": ".py",
   "mimetype": "text/x-python",
   "name": "python",
   "nbconvert_exporter": "python",
   "pygments_lexer": "ipython3",
   "version": "3.9.21"
  }
 },
 "nbformat": 4,
 "nbformat_minor": 2
}
